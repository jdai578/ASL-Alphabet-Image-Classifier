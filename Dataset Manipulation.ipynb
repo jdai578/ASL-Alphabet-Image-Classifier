{
 "cells": [
  {
   "cell_type": "code",
   "execution_count": 2,
   "metadata": {},
   "outputs": [
    {
     "name": "stderr",
     "output_type": "stream",
     "text": [
      "/usr/local/lib/python3.5/dist-packages/h5py/__init__.py:36: FutureWarning: Conversion of the second argument of issubdtype from `float` to `np.floating` is deprecated. In future, it will be treated as `np.float64 == np.dtype(float).type`.\n",
      "  from ._conv import register_converters as _register_converters\n",
      "Using TensorFlow backend.\n"
     ]
    }
   ],
   "source": [
    "import numpy as np\n",
    "from keras.layers import Dense, Dropout, Activation, Flatten\n",
    "from keras.layers import Convolution2D, GlobalMaxPooling2D, MaxPooling2D, Conv2D, GlobalAveragePooling2D \n",
    "from numpy import array\n",
    "from keras import optimizers\n",
    "from keras.models import Sequential, Model\n",
    "from keras.preprocessing.image import ImageDataGenerator\n",
    "from keras.utils import np_utils\n",
    "from keras.applications.resnet50 import ResNet50\n",
    "import keras.applications\n",
    "from keras.optimizers import Adam\n",
    "import matplotlib.pyplot as plt\n",
    "from os.path import isfile, join\n",
    "from os import listdir\n",
    "import os, os.path\n",
    "import shutil\n",
    "from random import shuffle\n",
    "from shutil import copyfile\n",
    "%matplotlib inline\n",
    "from keras.callbacks import ModelCheckpoint\n",
    "import cv2, time, sys\n",
    "from PIL import Image\n",
    "import numpy\n",
    "from keras.preprocessing.image import img_to_array\n",
    "from keras.preprocessing.image import load_img\n"
   ]
  },
  {
   "cell_type": "code",
   "execution_count": 4,
   "metadata": {},
   "outputs": [],
   "source": [
    "alphabet = [\"A\", \"B\", \"C\", \"D\", \"E\", \"F\", \"G\", \"H\", \"I\", \"J\", \"K\", \"L\", \"M\", \"N\", \"O\", \"P\", \"Q\", \"R\", \"S\", \"T\", \"U\", \"V\", \"W\", \"X\", \"Y\", \"Z\", \"del\", \"nothing\", \"space\"]\n",
    "valid_path = \"/home/t-judai/kaggle-link/datasets/grassknoted/asl-alphabet/asl_alphabet_valid/\"\n",
    "predict_path = \"/home/t-judai/kaggle-link/datasets/grassknoted/asl-alphabet/asl_alphabet_predict/\"\n",
    "#CREATE ALPHABET FOLDERS\n",
    "def folders(path):\n",
    "    for i in range(29):\n",
    "        new_path = os.makedirs(path + alphabet[i])\n",
    "folders(\"/home/t-judai/kaggle-link/datasets/grassknoted/asl-alphabet/asl_alphabet_test/\")"
   ]
  },
  {
   "cell_type": "code",
   "execution_count": 5,
   "metadata": {},
   "outputs": [],
   "source": [
    "def split(folder, letter):\n",
    "    valid_size = 450\n",
    "    start = 1\n",
    "    for item in os.listdir(folder):\n",
    "        if(os.path.isfile(folder + \"/\" + item)):\n",
    "            if valid_size > 0:\n",
    "                path_from = folder + \"/\" + item\n",
    "                shutil.move(path_from, \"/home/t-judai/kaggle-link/datasets/grassknoted/asl-alphabet/asl_alphabet_train/\" + letter + \"/\" + letter + str(start + 3450) + \".jpg\")\n",
    "                start += 1\n",
    "                valid_size -= 1\n",
    "            else:\n",
    "                break\n",
    "#MANUALLY SPLIT TRAINING DATA INTO TRAINING AND VALIDATION\n",
    "alphabet = [\"A\", \"B\", \"C\", \"D\", \"E\", \"F\", \"G\", \"H\", \"I\", \"J\", \"K\", \"L\", \"M\", \"N\", \"O\", \"P\", \"Q\", \"R\", \"S\", \"T\", \"U\", \"V\", \"W\", \"X\", \"Y\", \"Z\", \"del\", \"nothing\", \"space\"]\n",
    "#for i in range(29):\n",
    "    #split(\"/home/t-judai/kaggle-link/datasets/grassknoted/asl-alphabet/asl_alphabet_predict/\" + alphabet[i], alphabet[i])"
   ]
  },
  {
   "cell_type": "code",
   "execution_count": 140,
   "metadata": {},
   "outputs": [],
   "source": [
    "#rename images\n",
    "path = \"/home/t-judai/kaggle-link/datasets/grassknoted/asl-alphabet/temp/\"\n",
    "def rename(path, letter, i):\n",
    "    for filename in os.listdir(path):\n",
    "        os.rename(path + filename, path + letter + str(i) + \".jpg\")\n",
    "        i += 1\n",
    "\n",
    "#rename(path, \"C\", 1000)"
   ]
  },
  {
   "cell_type": "code",
   "execution_count": 8,
   "metadata": {},
   "outputs": [],
   "source": [
    "path = \"/home/t-judai/kaggle-link/datasets/grassknoted/asl-alphabet/emp1/\"\n",
    "dirs = os.listdir(path)\n",
    "def crop(path, dirs):\n",
    "    for item in dirs:\n",
    "        if os.path.isfile(path+item):\n",
    "            img = Image.open(path+item)\n",
    "            #print (img.size)\n",
    "            area = (480, 0, 1440, 1080)\n",
    "            cropped_img = img.crop(area)\n",
    "            #print (cropped_img.size)\n",
    "            cropped_img.save(path+item)\n",
    "crop(path, dirs)\n"
   ]
  },
  {
   "cell_type": "code",
   "execution_count": 9,
   "metadata": {},
   "outputs": [],
   "source": [
    "#sort & move images to correct folder\n",
    "alphabet = [\"A\", \"B\", \"C\", \"D\", \"E\", \"F\", \"G\", \"H\", \"I\", \"J\", \"K\", \"L\", \"M\", \"N\", \"O\", \"P\", \"Q\", \"R\", \"S\", \"T\", \"U\", \"V\", \"W\", \"X\", \"Y\", \"Z\", \"del\", \"nothing\", \"space\"]\n",
    "path = \"/home/t-judai/kaggle-link/datasets/grassknoted/asl-alphabet/emp1/\"\n",
    "dirs = os.listdir(path)\n",
    "test_path = \"/home/t-judai/kaggle-link/datasets/grassknoted/asl-alphabet/asl_alphabet_test/\"\n",
    "for letter in alphabet:\n",
    "    for item in dirs:\n",
    "        if item[0]==letter[0]:\n",
    "            shutil.move(path+item, test_path+letter+ \"/\" + item)\n"
   ]
  },
  {
   "cell_type": "code",
   "execution_count": 155,
   "metadata": {},
   "outputs": [],
   "source": [
    "import PIL\n",
    "from PIL import ImageEnhance\n",
    "\n",
    "def black_and_white(path, item, letter, i, factor):\n",
    "    img = Image.open(path + letter + \"/\" + item)\n",
    "    enhancer = PIL.ImageEnhance.Color(img)\n",
    "    img = enhancer.enhance(factor)\n",
    "    img.save(path + letter + \"/\" + letter + str(i) + \".jpg\")\n",
    "\n",
    "\n"
   ]
  },
  {
   "cell_type": "code",
   "execution_count": 148,
   "metadata": {},
   "outputs": [],
   "source": [
    "black_and_white(\"/home/t-judai/kaggle-link/datasets/grassknoted/asl-alphabet/temp/\", \"C1000.jpg\", \"C\", 12)\n"
   ]
  },
  {
   "cell_type": "code",
   "execution_count": 156,
   "metadata": {},
   "outputs": [],
   "source": [
    "i = 250\n",
    "path = \"/home/t-judai/kaggle-link/datasets/grassknoted/asl-alphabet/asl_alphabet_predict/\"\n",
    "dirs = os.listdir(path)\n",
    "\n",
    "alphabet = [\"A\", \"B\", \"C\", \"D\", \"E\", \"F\", \"G\", \"H\", \"I\", \"J\", \"K\", \"L\", \"M\", \"N\", \"O\", \"P\", \"Q\", \"R\", \"S\", \"T\", \"U\", \"V\", \"W\", \"X\", \"Y\", \"Z\", \"del\", \"nothing\", \"space\"]    \n",
    "for letter in alphabet:\n",
    "    for item in os.listdir(path + letter + \"/\"):\n",
    "        if os.path.isfile(path + letter + \"/\" + item):\n",
    "            black_and_white(path, item, letter, i, 0.0)\n",
    "            i+=1\n",
    "            black_and_white(path, item, letter, i, 0.1)\n",
    "            i+=1\n",
    "            black_and_white(path, item, letter, i, 0.2)\n",
    "            i+=1\n",
    "            black_and_white(path, item, letter, i, 0.3)\n",
    "            i+=1\n",
    "            black_and_white(path, item, letter, i, 0.4)\n",
    "            i+=1\n",
    "            black_and_white(path, item, letter, i, 0.5)\n",
    "            i+=1\n",
    "            black_and_white(path, item, letter, i, 0.6)\n",
    "            i+=1\n",
    "            black_and_white(path, item, letter, i, 0.7)\n",
    "            i+=1\n",
    "            black_and_white(path, item, letter, i, 0.8)\n",
    "            i+=1\n"
   ]
  },
  {
   "cell_type": "code",
   "execution_count": 3,
   "metadata": {},
   "outputs": [
    {
     "name": "stdout",
     "output_type": "stream",
     "text": [
      "(1920, 1080)\n",
      "(960, 1080)\n"
     ]
    }
   ],
   "source": [
    "path = \"/home/t-judai/kaggle-link/datasets/grassknoted/asl-alphabet/temp/mommy_C.jpg\"\n",
    "img = Image.open(path)\n",
    "print (img.size)\n",
    "area = (480, 0, 1440, 1080)\n",
    "cropped_img = img.crop(area)\n",
    "print (cropped_img.size)\n",
    "cropped_img.save(path)"
   ]
  },
  {
   "cell_type": "code",
   "execution_count": 19,
   "metadata": {},
   "outputs": [],
   "source": [
    "path = \"/home/t-judai/kaggle-link/datasets/egohands_data/_LABELLED_SAMPLES/\"\n",
    "for folder in os.listdir(path):\n",
    "    for item in os.listdir(path + folder):\n",
    "        os.rename(path + folder + \"/\" + item, path + folder + \"/\" + item[-14:]) "
   ]
  },
  {
   "cell_type": "code",
   "execution_count": 7,
   "metadata": {},
   "outputs": [
    {
     "name": "stdout",
     "output_type": "stream",
     "text": [
      "(960, 1080)\n",
      "(960, 1080)\n",
      "(960, 1080)\n",
      "(960, 1080)\n",
      "(960, 1080)\n",
      "(960, 1080)\n",
      "(960, 1080)\n",
      "(960, 1080)\n",
      "(960, 1080)\n",
      "(960, 1080)\n",
      "(960, 1080)\n",
      "(960, 1080)\n",
      "(960, 1080)\n",
      "(960, 1080)\n",
      "(960, 1080)\n",
      "(960, 1080)\n",
      "(960, 1080)\n",
      "(960, 1080)\n",
      "(960, 1080)\n",
      "(960, 1080)\n",
      "(960, 1080)\n",
      "(960, 1080)\n",
      "(960, 1080)\n",
      "(960, 1080)\n",
      "(960, 1080)\n",
      "(960, 1080)\n",
      "(960, 1080)\n",
      "(960, 1080)\n",
      "(960, 1080)\n",
      "(960, 1080)\n",
      "(960, 1080)\n",
      "(960, 1080)\n",
      "(960, 1080)\n",
      "(960, 1080)\n",
      "(960, 1080)\n",
      "(960, 1080)\n",
      "(960, 1080)\n",
      "(960, 1080)\n",
      "(960, 1080)\n",
      "(960, 1080)\n",
      "(960, 1080)\n",
      "(960, 1080)\n",
      "(960, 1080)\n",
      "(960, 1080)\n",
      "(960, 1080)\n",
      "(960, 1080)\n",
      "(960, 1080)\n",
      "(960, 1080)\n",
      "(960, 1080)\n",
      "(960, 1080)\n",
      "(960, 1080)\n",
      "(960, 1080)\n",
      "(960, 1080)\n",
      "(960, 1080)\n",
      "(960, 1080)\n",
      "(960, 1080)\n",
      "(960, 1080)\n"
     ]
    }
   ],
   "source": [
    "path = \"/home/t-judai/kaggle-link/datasets/grassknoted/asl-alphabet/asl_alphabet_test/\"\n",
    "for folder in os.listdir(path):\n",
    "    for item in os.listdir(path + folder):\n",
    "        img = Image.open(path + folder + \"/\" + item)\n",
    "        if(img.size != (960, 1080)):\n",
    "            area = (480, 0, 1440, 1080)\n",
    "            cropped_img = img.crop(area)\n",
    "            print (cropped_img.size)\n",
    "            cropped_img.save(path + folder + \"/\" + item)\n",
    "        "
   ]
  },
  {
   "cell_type": "code",
   "execution_count": null,
   "metadata": {},
   "outputs": [],
   "source": []
  }
 ],
 "metadata": {
  "kernelspec": {
   "display_name": "Python 3",
   "language": "python",
   "name": "python3"
  },
  "language_info": {
   "codemirror_mode": {
    "name": "ipython",
    "version": 3
   },
   "file_extension": ".py",
   "mimetype": "text/x-python",
   "name": "python",
   "nbconvert_exporter": "python",
   "pygments_lexer": "ipython3",
   "version": "3.5.2"
  }
 },
 "nbformat": 4,
 "nbformat_minor": 2
}
